{
 "cells": [
  {
   "cell_type": "code",
   "execution_count": 7,
   "metadata": {},
   "outputs": [
    {
     "data": {
      "application/vnd.jupyter.widget-view+json": {
       "model_id": "5f7ad689dce04f52b1fde8e1b6e9465a",
       "version_major": 2,
       "version_minor": 0
      },
      "text/plain": [
       "Resolving data files:   0%|          | 0/72 [00:00<?, ?it/s]"
      ]
     },
     "metadata": {},
     "output_type": "display_data"
    }
   ],
   "source": [
    "from datasets import load_dataset\n",
    "\n",
    "dataset = load_dataset(\"huggan/wikiart\")"
   ]
  },
  {
   "cell_type": "code",
   "execution_count": 9,
   "metadata": {},
   "outputs": [
    {
     "name": "stdout",
     "output_type": "stream",
     "text": [
      "22\n",
      "20\n",
      "16\n",
      "17\n",
      "9\n",
      "1\n",
      "22\n",
      "9\n",
      "25\n",
      "11\n",
      "9\n",
      "14\n",
      "14\n",
      "1\n",
      "17\n",
      "12\n",
      "22\n",
      "7\n",
      "9\n",
      "7\n",
      "20\n",
      "18\n",
      "17\n",
      "13\n",
      "20\n",
      "4\n",
      "14\n",
      "13\n",
      "10\n",
      "22\n",
      "22\n",
      "25\n",
      "16\n",
      "12\n",
      "15\n",
      "9\n",
      "12\n",
      "14\n",
      "19\n",
      "20\n",
      "17\n",
      "8\n",
      "14\n",
      "6\n",
      "17\n",
      "21\n",
      "25\n",
      "16\n",
      "22\n",
      "15\n"
     ]
    },
    {
     "data": {
      "text/plain": [
       "0"
      ]
     },
     "execution_count": 9,
     "metadata": {},
     "output_type": "execute_result"
    }
   ],
   "source": [
    "from PIL import Image\n",
    "# print the column \"artist\" of each line\n",
    "count = 0\n",
    "for i in range(50):\n",
    "    if dataset['train'][i]['artist'] > 0:\n",
    "        print(dataset['train'][i]['artist'])\n",
    "\n",
    "count"
   ]
  }
 ],
 "metadata": {
  "kernelspec": {
   "display_name": "Python 3",
   "language": "python",
   "name": "python3"
  },
  "language_info": {
   "codemirror_mode": {
    "name": "ipython",
    "version": 3
   },
   "file_extension": ".py",
   "mimetype": "text/x-python",
   "name": "python",
   "nbconvert_exporter": "python",
   "pygments_lexer": "ipython3",
   "version": "3.11.0"
  }
 },
 "nbformat": 4,
 "nbformat_minor": 2
}
