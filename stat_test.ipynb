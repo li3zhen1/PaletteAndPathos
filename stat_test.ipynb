{
 "cells": [
  {
   "cell_type": "code",
   "execution_count": 3,
   "metadata": {},
   "outputs": [
    {
     "name": "stdout",
     "output_type": "stream",
     "text": [
      "amusement         0.053884\n",
      "awe               0.086183\n",
      "contentment       0.174527\n",
      "excitement        0.035639\n",
      "anger             0.066078\n",
      "disgust           0.075765\n",
      "fear              0.063512\n",
      "sadness           0.154117\n",
      "something else    0.290296\n",
      "dtype: float64\n"
     ]
    },
    {
     "name": "stderr",
     "output_type": "stream",
     "text": [
      "/var/folders/gx/j0snwyqn015d2ms_6k_qbspc0000gn/T/ipykernel_93784/466188316.py:5: FutureWarning: The default value of numeric_only in DataFrame.mean is deprecated. In a future version, it will default to False. In addition, specifying 'numeric_only=None' is deprecated. Select only valid columns or specify the value of numeric_only to silence this warning.\n",
      "  print(df.mean(axis=0))\n"
     ]
    }
   ],
   "source": [
    "import pandas as pd\n",
    "\n",
    "WIKI_CSV = \"results/image2emotion/wikiart/Art_Nouveau_Modern.csv\"\n",
    "df = pd.read_csv(WIKI_CSV)\n",
    "print(df.mean(axis=0))\n"
   ]
  },
  {
   "cell_type": "code",
   "execution_count": 4,
   "metadata": {},
   "outputs": [
    {
     "name": "stdout",
     "output_type": "stream",
     "text": [
      "ObjectID          104122.106833\n",
      "amusement              0.074732\n",
      "awe                    0.105835\n",
      "contentment            0.215830\n",
      "excitement             0.048635\n",
      "anger                  0.034851\n",
      "disgust                0.062139\n",
      "fear                   0.077242\n",
      "sadness                0.123140\n",
      "something else         0.257595\n",
      "dtype: float64\n"
     ]
    }
   ],
   "source": [
    "MOMA_PAINTING = \"results/image2emotion/moma/paintings_emotion.csv\"\n",
    "df = pd.read_csv(MOMA_PAINTING)\n",
    "print(df.mean(axis=0))"
   ]
  },
  {
   "cell_type": "code",
   "execution_count": 5,
   "metadata": {},
   "outputs": [
    {
     "name": "stdout",
     "output_type": "stream",
     "text": [
      "amusement         0.045643\n",
      "awe               0.097177\n",
      "contentment       0.170464\n",
      "excitement        0.039666\n",
      "anger             0.061416\n",
      "disgust           0.086290\n",
      "fear              0.070050\n",
      "sadness           0.156019\n",
      "something else    0.273276\n",
      "dtype: float64\n"
     ]
    },
    {
     "name": "stderr",
     "output_type": "stream",
     "text": [
      "/var/folders/gx/j0snwyqn015d2ms_6k_qbspc0000gn/T/ipykernel_93784/2213498989.py:3: FutureWarning: The default value of numeric_only in DataFrame.mean is deprecated. In a future version, it will default to False. In addition, specifying 'numeric_only=None' is deprecated. Select only valid columns or specify the value of numeric_only to silence this warning.\n",
      "  print(df.mean(axis=0))\n"
     ]
    }
   ],
   "source": [
    "POINTILLISM = \"results/image2emotion/wikiart/Pointillism.csv\"\n",
    "df = pd.read_csv(POINTILLISM)\n",
    "print(df.mean(axis=0))"
   ]
  },
  {
   "cell_type": "code",
   "execution_count": 6,
   "metadata": {},
   "outputs": [
    {
     "name": "stdout",
     "output_type": "stream",
     "text": [
      "amusement         0.059462\n",
      "awe               0.076671\n",
      "contentment       0.180364\n",
      "excitement        0.036535\n",
      "anger             0.067046\n",
      "disgust           0.072772\n",
      "fear              0.054091\n",
      "sadness           0.142257\n",
      "something else    0.310800\n",
      "dtype: float64\n"
     ]
    },
    {
     "name": "stderr",
     "output_type": "stream",
     "text": [
      "/var/folders/gx/j0snwyqn015d2ms_6k_qbspc0000gn/T/ipykernel_93784/221239984.py:2: FutureWarning: The default value of numeric_only in DataFrame.mean is deprecated. In a future version, it will default to False. In addition, specifying 'numeric_only=None' is deprecated. Select only valid columns or specify the value of numeric_only to silence this warning.\n",
      "  print(df.mean(axis=0))\n"
     ]
    }
   ],
   "source": [
    "\n",
    "df = pd.read_csv(\"results/image2emotion/wikiart/Pop_Art.csv\")\n",
    "print(df.mean(axis=0))"
   ]
  }
 ],
 "metadata": {
  "kernelspec": {
   "display_name": "Python 3",
   "language": "python",
   "name": "python3"
  },
  "language_info": {
   "codemirror_mode": {
    "name": "ipython",
    "version": 3
   },
   "file_extension": ".py",
   "mimetype": "text/x-python",
   "name": "python",
   "nbconvert_exporter": "python",
   "pygments_lexer": "ipython3",
   "version": "3.11.0"
  }
 },
 "nbformat": 4,
 "nbformat_minor": 2
}
