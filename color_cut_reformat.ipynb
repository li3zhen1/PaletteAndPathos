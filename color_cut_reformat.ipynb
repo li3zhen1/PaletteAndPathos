{
 "cells": [
  {
   "cell_type": "code",
   "execution_count": 55,
   "metadata": {},
   "outputs": [],
   "source": [
    "inputs_example = [\n",
    "    \"[(23, 21, 29), (124, 102, 91)]\",\n",
    "    \"[(23, 21, 29), (67, 63, 66), (183, 110, 76), (181, 172, 157)]\",\n",
    "    \"[(23, 21, 29), (40, 44, 65), (93, 83, 81), (181, 172, 157), (125, 125, 123), (183, 110, 76), (26, 24, 32), (50, 39, 36)]\"\n",
    "]"
   ]
  },
  {
   "cell_type": "code",
   "execution_count": 56,
   "metadata": {},
   "outputs": [],
   "source": [
    "def format_colorstring(colorstring):\n",
    "    rgb_values = colorstring.replace('(', '').replace(')', '').split(',')\n",
    "    rgb_values = [int(value.strip()) for value in rgb_values]\n",
    "    if any(value < 0 or value > 255 for value in rgb_values) or len(rgb_values) != 3:\n",
    "        raise ValueError(\"Invalid RGB values\")\n",
    "    hex_color = '{:02x}{:02x}{:02x}'.format(*rgb_values)\n",
    "    return hex_color\n",
    "\n",
    "assert(format_colorstring(\"(23, 21, 29)\") == \"17151d\")"
   ]
  },
  {
   "cell_type": "code",
   "execution_count": 57,
   "metadata": {},
   "outputs": [
    {
     "name": "stdout",
     "output_type": "stream",
     "text": [
      "['17151d', '7c665b']\n",
      "['17151d', '433f42', 'b76e4c', 'b5ac9d']\n",
      "['17151d', '282c41', '5d5351', 'b5ac9d', '7d7d7b', 'b76e4c', '1a1820', '322724']\n"
     ]
    }
   ],
   "source": [
    "def format_colorstring_list(colorstring_list):\n",
    "    colorstring_list = colorstring_list[2:-2].split('), (')\n",
    "    return [format_colorstring(colorstring) for colorstring in colorstring_list ]\n",
    "\n",
    "\n",
    "for input_example in inputs_example:\n",
    "    print(format_colorstring_list(input_example))"
   ]
  },
  {
   "cell_type": "code",
   "execution_count": 58,
   "metadata": {},
   "outputs": [],
   "source": [
    "import pandas as pd\n",
    "\n",
    "def translate_file(csv_path, save_path):\n",
    "    df = pd.read_csv(csv_path)\n",
    "    cut_2 = df['cut_2'].apply(lambda x: pd.Series(format_colorstring_list(x)))\n",
    "    cut_2 = cut_2.rename(columns={ 0: 'cutBy2_0', 1: 'cutBy2_1'})\n",
    "\n",
    "    cut_4 = df['cut_4'].apply(lambda x: pd.Series(format_colorstring_list(x)))\n",
    "    cut_4 = cut_4.rename(columns={i: f\"cutBy4_{i}\" for i in range(0,4)} )\n",
    "\n",
    "\n",
    "    cut_8 = df['cut_8'].apply(lambda x: pd.Series(format_colorstring_list(x)))\n",
    "    cut_8 = cut_8.rename(columns={i: f\"cutBy8_{i}\" for i in range(0,8)} )\n",
    "\n",
    "    df = pd.concat([df, cut_2, cut_4, cut_8], axis=1)\n",
    "    df = df.drop(['cut_2', 'cut_4', 'cut_8'], axis=1)\n",
    "    \n",
    "    df.to_csv(save_path, index=False)"
   ]
  },
  {
   "cell_type": "code",
   "execution_count": 59,
   "metadata": {},
   "outputs": [],
   "source": [
    "translate_file(\"results/color_cut/moma/painting_cut.csv\", \"results/color_cut/moma/painting_color_cut_hex.csv\")"
   ]
  },
  {
   "cell_type": "code",
   "execution_count": 61,
   "metadata": {},
   "outputs": [],
   "source": [
    "import os\n",
    "\n",
    "for filename in os.listdir(\"results/color_cut/wikiart/\"):\n",
    "    translate_file(\n",
    "        f\"results/color_cut/wikiart/{filename}\", \n",
    "        f\"results/color_cut/wikiart/{filename.replace('.csv', '_hex.csv')}\")"
   ]
  }
 ],
 "metadata": {
  "kernelspec": {
   "display_name": "Python 3",
   "language": "python",
   "name": "python3"
  },
  "language_info": {
   "codemirror_mode": {
    "name": "ipython",
    "version": 3
   },
   "file_extension": ".py",
   "mimetype": "text/x-python",
   "name": "python",
   "nbconvert_exporter": "python",
   "pygments_lexer": "ipython3",
   "version": "3.11.0"
  }
 },
 "nbformat": 4,
 "nbformat_minor": 2
}
