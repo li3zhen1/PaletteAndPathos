{
 "cells": [
  {
   "cell_type": "code",
   "execution_count": 7,
   "metadata": {},
   "outputs": [],
   "source": [
    "import pandas as pd\n",
    "import numpy as np\n",
    "import os\n",
    "\n",
    "dfMoma = pd.read_csv('../cleaned_data/moma.csv')\n",
    "\n",
    "\n",
    "dfWiki = pd.read_csv('../cleaned_data/wikiart.csv')\n",
    "\n",
    "dfMoma[\"Folder_Name\"] = \"Moma\"\n",
    "\n",
    "\n",
    "# rename \"filename\" to \"ObjectID\"\n",
    "dfWiki.rename(columns={'filename':'ObjectID'}, inplace=True)\n",
    "\n",
    "# join on \"ObjectID\"\n",
    "df = pd.concat([dfMoma, dfWiki], axis=0, join='outer', ignore_index=True, sort=False)\n",
    "\n",
    "df.tail()\n",
    "\n",
    "df.dropna()\n",
    "\n",
    "df.to_csv('../cleaned_data/combined.csv', index=False)"
   ]
  }
 ],
 "metadata": {
  "kernelspec": {
   "display_name": "Python 3",
   "language": "python",
   "name": "python3"
  },
  "language_info": {
   "codemirror_mode": {
    "name": "ipython",
    "version": 3
   },
   "file_extension": ".py",
   "mimetype": "text/x-python",
   "name": "python",
   "nbconvert_exporter": "python",
   "pygments_lexer": "ipython3",
   "version": "3.11.0"
  }
 },
 "nbformat": 4,
 "nbformat_minor": 2
}
