{
 "cells": [
  {
   "cell_type": "code",
   "execution_count": 6,
   "metadata": {},
   "outputs": [],
   "source": [
    "import pandas as pd"
   ]
  },
  {
   "cell_type": "code",
   "execution_count": 7,
   "metadata": {},
   "outputs": [],
   "source": [
    "IMAGE2EMOTION_PATH = \"../results/image2emotion/\"\n",
    "\n",
    "IMAGE2EMOTION_MOMA_PATH = IMAGE2EMOTION_PATH + \"moma/\"\n",
    "\n",
    "IMAGE2EMOTION_WIKIART_PATH = IMAGE2EMOTION_PATH + \"wikiart/\"\n",
    "\n",
    "COLOR_CUT_PATH = \"../results/color_cut/\"\n",
    "\n",
    "COLOR_CUT_MOMA_PATH = COLOR_CUT_PATH + \"moma/\"\n",
    "\n",
    "COLOR_CUT_WIKIART_PATH = COLOR_CUT_PATH + \"wikiart/\"\n",
    "\n",
    "# \n",
    "\n",
    "OUTPUT_PATH = \"../cleaned_data/\""
   ]
  },
  {
   "cell_type": "code",
   "execution_count": 10,
   "metadata": {},
   "outputs": [
    {
     "data": {
      "text/html": [
       "<div>\n",
       "<style scoped>\n",
       "    .dataframe tbody tr th:only-of-type {\n",
       "        vertical-align: middle;\n",
       "    }\n",
       "\n",
       "    .dataframe tbody tr th {\n",
       "        vertical-align: top;\n",
       "    }\n",
       "\n",
       "    .dataframe thead th {\n",
       "        text-align: right;\n",
       "    }\n",
       "</style>\n",
       "<table border=\"1\" class=\"dataframe\">\n",
       "  <thead>\n",
       "    <tr style=\"text-align: right;\">\n",
       "      <th></th>\n",
       "      <th>ObjectID</th>\n",
       "      <th>amusement</th>\n",
       "      <th>awe</th>\n",
       "      <th>contentment</th>\n",
       "      <th>excitement</th>\n",
       "      <th>anger</th>\n",
       "      <th>disgust</th>\n",
       "      <th>fear</th>\n",
       "      <th>sadness</th>\n",
       "      <th>something else</th>\n",
       "      <th>Category</th>\n",
       "    </tr>\n",
       "  </thead>\n",
       "  <tbody>\n",
       "    <tr>\n",
       "      <th>0</th>\n",
       "      <td>sir-lawrence-alma-tadema_from-an-absent-one-1871</td>\n",
       "      <td>0.044514</td>\n",
       "      <td>0.161080</td>\n",
       "      <td>0.226140</td>\n",
       "      <td>0.049077</td>\n",
       "      <td>0.036432</td>\n",
       "      <td>0.061143</td>\n",
       "      <td>0.069495</td>\n",
       "      <td>0.144686</td>\n",
       "      <td>0.207434</td>\n",
       "      <td>Romanticism</td>\n",
       "    </tr>\n",
       "    <tr>\n",
       "      <th>1</th>\n",
       "      <td>ivan-aivazovsky_the-varangians-on-the-dnieper-...</td>\n",
       "      <td>0.032583</td>\n",
       "      <td>0.037651</td>\n",
       "      <td>0.149018</td>\n",
       "      <td>0.012342</td>\n",
       "      <td>0.071572</td>\n",
       "      <td>0.065695</td>\n",
       "      <td>0.033370</td>\n",
       "      <td>0.184808</td>\n",
       "      <td>0.412960</td>\n",
       "      <td>Romanticism</td>\n",
       "    </tr>\n",
       "    <tr>\n",
       "      <th>2</th>\n",
       "      <td>arnold-bã¶cklin_dragon-walking-between-rocks</td>\n",
       "      <td>0.035651</td>\n",
       "      <td>0.059107</td>\n",
       "      <td>0.145821</td>\n",
       "      <td>0.016550</td>\n",
       "      <td>0.076403</td>\n",
       "      <td>0.070725</td>\n",
       "      <td>0.049825</td>\n",
       "      <td>0.216315</td>\n",
       "      <td>0.329603</td>\n",
       "      <td>Romanticism</td>\n",
       "    </tr>\n",
       "    <tr>\n",
       "      <th>3</th>\n",
       "      <td>joseph-wright_three-persons-viewing-the-gladia...</td>\n",
       "      <td>0.043249</td>\n",
       "      <td>0.061540</td>\n",
       "      <td>0.149652</td>\n",
       "      <td>0.022863</td>\n",
       "      <td>0.085113</td>\n",
       "      <td>0.077636</td>\n",
       "      <td>0.052672</td>\n",
       "      <td>0.183285</td>\n",
       "      <td>0.323989</td>\n",
       "      <td>Romanticism</td>\n",
       "    </tr>\n",
       "    <tr>\n",
       "      <th>4</th>\n",
       "      <td>gheorghe-tattarescu_maria-gr-di-teanu</td>\n",
       "      <td>0.045573</td>\n",
       "      <td>0.053924</td>\n",
       "      <td>0.148876</td>\n",
       "      <td>0.021385</td>\n",
       "      <td>0.078500</td>\n",
       "      <td>0.079667</td>\n",
       "      <td>0.051969</td>\n",
       "      <td>0.171927</td>\n",
       "      <td>0.348178</td>\n",
       "      <td>Romanticism</td>\n",
       "    </tr>\n",
       "  </tbody>\n",
       "</table>\n",
       "</div>"
      ],
      "text/plain": [
       "                                            ObjectID  amusement       awe  \\\n",
       "0   sir-lawrence-alma-tadema_from-an-absent-one-1871   0.044514  0.161080   \n",
       "1  ivan-aivazovsky_the-varangians-on-the-dnieper-...   0.032583  0.037651   \n",
       "2       arnold-bã¶cklin_dragon-walking-between-rocks   0.035651  0.059107   \n",
       "3  joseph-wright_three-persons-viewing-the-gladia...   0.043249  0.061540   \n",
       "4              gheorghe-tattarescu_maria-gr-di-teanu   0.045573  0.053924   \n",
       "\n",
       "   contentment  excitement     anger   disgust      fear   sadness  \\\n",
       "0     0.226140    0.049077  0.036432  0.061143  0.069495  0.144686   \n",
       "1     0.149018    0.012342  0.071572  0.065695  0.033370  0.184808   \n",
       "2     0.145821    0.016550  0.076403  0.070725  0.049825  0.216315   \n",
       "3     0.149652    0.022863  0.085113  0.077636  0.052672  0.183285   \n",
       "4     0.148876    0.021385  0.078500  0.079667  0.051969  0.171927   \n",
       "\n",
       "   something else     Category  \n",
       "0        0.207434  Romanticism  \n",
       "1        0.412960  Romanticism  \n",
       "2        0.329603  Romanticism  \n",
       "3        0.323989  Romanticism  \n",
       "4        0.348178  Romanticism  "
      ]
     },
     "execution_count": 10,
     "metadata": {},
     "output_type": "execute_result"
    }
   ],
   "source": [
    "import os\n",
    "\n",
    "df = pd.DataFrame()\n",
    "\n",
    "for csv in os.listdir(IMAGE2EMOTION_WIKIART_PATH):\n",
    "    if csv.endswith(\".csv\"):\n",
    "        sub_df = pd.read_csv(IMAGE2EMOTION_WIKIART_PATH + csv)\n",
    "        sub_df[\"Category\"] = csv.split(\".\")[0]\n",
    "        df = pd.concat([df, sub_df])\n",
    "\n",
    "df.describe()\n",
    "df.head()"
   ]
  },
  {
   "cell_type": "code",
   "execution_count": 12,
   "metadata": {},
   "outputs": [
    {
     "data": {
      "text/html": [
       "<div>\n",
       "<style scoped>\n",
       "    .dataframe tbody tr th:only-of-type {\n",
       "        vertical-align: middle;\n",
       "    }\n",
       "\n",
       "    .dataframe tbody tr th {\n",
       "        vertical-align: top;\n",
       "    }\n",
       "\n",
       "    .dataframe thead th {\n",
       "        text-align: right;\n",
       "    }\n",
       "</style>\n",
       "<table border=\"1\" class=\"dataframe\">\n",
       "  <thead>\n",
       "    <tr style=\"text-align: right;\">\n",
       "      <th></th>\n",
       "      <th>ObjectID</th>\n",
       "      <th>cutBy2_0</th>\n",
       "      <th>cutBy2_1</th>\n",
       "      <th>cutBy4_0</th>\n",
       "      <th>cutBy4_1</th>\n",
       "      <th>cutBy4_2</th>\n",
       "      <th>cutBy4_3</th>\n",
       "      <th>cutBy8_0</th>\n",
       "      <th>cutBy8_1</th>\n",
       "      <th>cutBy8_2</th>\n",
       "      <th>cutBy8_3</th>\n",
       "      <th>cutBy8_4</th>\n",
       "      <th>cutBy8_5</th>\n",
       "      <th>cutBy8_6</th>\n",
       "      <th>cutBy8_7</th>\n",
       "      <th>Category</th>\n",
       "    </tr>\n",
       "  </thead>\n",
       "  <tbody>\n",
       "    <tr>\n",
       "      <th>0</th>\n",
       "      <td>paul-gauguin_seaside-harvest-1890</td>\n",
       "      <td>3c402c</td>\n",
       "      <td>8e7433</td>\n",
       "      <td>3c402c</td>\n",
       "      <td>a4893d</td>\n",
       "      <td>5d512a</td>\n",
       "      <td>966e27</td>\n",
       "      <td>ac8727</td>\n",
       "      <td>5d4d1b</td>\n",
       "      <td>936820</td>\n",
       "      <td>5c5439</td>\n",
       "      <td>98742f</td>\n",
       "      <td>3c402c</td>\n",
       "      <td>888970</td>\n",
       "      <td>ae8d36</td>\n",
       "      <td>Post_Impressionism</td>\n",
       "    </tr>\n",
       "    <tr>\n",
       "      <th>1</th>\n",
       "      <td>arnold-bã¶cklin_dragon-walking-between-rocks</td>\n",
       "      <td>271e1a</td>\n",
       "      <td>5f5143</td>\n",
       "      <td>271e1a</td>\n",
       "      <td>493a2d</td>\n",
       "      <td>5a544c</td>\n",
       "      <td>927a66</td>\n",
       "      <td>271e1a</td>\n",
       "      <td>8e7d6e</td>\n",
       "      <td>5a544c</td>\n",
       "      <td>88684e</td>\n",
       "      <td>a8907b</td>\n",
       "      <td>aea79f</td>\n",
       "      <td>3f342a</td>\n",
       "      <td>524130</td>\n",
       "      <td>Post_Impressionism</td>\n",
       "    </tr>\n",
       "    <tr>\n",
       "      <th>2</th>\n",
       "      <td>pyotr-konchalovsky_still-life-with-a-jug-1910</td>\n",
       "      <td>2f2b2b</td>\n",
       "      <td>756760</td>\n",
       "      <td>5f4b3c</td>\n",
       "      <td>2f2b2b</td>\n",
       "      <td>68646e</td>\n",
       "      <td>afa39a</td>\n",
       "      <td>28231e</td>\n",
       "      <td>bcb0a3</td>\n",
       "      <td>d8cbc0</td>\n",
       "      <td>68646e</td>\n",
       "      <td>353337</td>\n",
       "      <td>5f4b3c</td>\n",
       "      <td>8f8275</td>\n",
       "      <td>988f90</td>\n",
       "      <td>Post_Impressionism</td>\n",
       "    </tr>\n",
       "    <tr>\n",
       "      <th>3</th>\n",
       "      <td>adam-baltatu_children-on-the-alley</td>\n",
       "      <td>312a20</td>\n",
       "      <td>776957</td>\n",
       "      <td>312a20</td>\n",
       "      <td>5e503e</td>\n",
       "      <td>7e7159</td>\n",
       "      <td>a19587</td>\n",
       "      <td>746c56</td>\n",
       "      <td>ad9481</td>\n",
       "      <td>89765c</td>\n",
       "      <td>bab2a4</td>\n",
       "      <td>312a20</td>\n",
       "      <td>8f877a</td>\n",
       "      <td>564632</td>\n",
       "      <td>665949</td>\n",
       "      <td>Post_Impressionism</td>\n",
       "    </tr>\n",
       "    <tr>\n",
       "      <th>4</th>\n",
       "      <td>henri-de-toulouse-lautrec_lili-grenier-in-a-ki...</td>\n",
       "      <td>493a25</td>\n",
       "      <td>83745d</td>\n",
       "      <td>675e48</td>\n",
       "      <td>493a25</td>\n",
       "      <td>8e6c4e</td>\n",
       "      <td>afa799</td>\n",
       "      <td>352b1f</td>\n",
       "      <td>635539</td>\n",
       "      <td>9d9272</td>\n",
       "      <td>8e6c4e</td>\n",
       "      <td>5c492c</td>\n",
       "      <td>6a6757</td>\n",
       "      <td>aeb0b8</td>\n",
       "      <td>d4c8c6</td>\n",
       "      <td>Post_Impressionism</td>\n",
       "    </tr>\n",
       "  </tbody>\n",
       "</table>\n",
       "</div>"
      ],
      "text/plain": [
       "                                            ObjectID cutBy2_0 cutBy2_1  \\\n",
       "0                  paul-gauguin_seaside-harvest-1890   3c402c   8e7433   \n",
       "1       arnold-bã¶cklin_dragon-walking-between-rocks   271e1a   5f5143   \n",
       "2      pyotr-konchalovsky_still-life-with-a-jug-1910   2f2b2b   756760   \n",
       "3                 adam-baltatu_children-on-the-alley   312a20   776957   \n",
       "4  henri-de-toulouse-lautrec_lili-grenier-in-a-ki...   493a25   83745d   \n",
       "\n",
       "  cutBy4_0 cutBy4_1 cutBy4_2 cutBy4_3 cutBy8_0 cutBy8_1 cutBy8_2 cutBy8_3  \\\n",
       "0   3c402c   a4893d   5d512a   966e27   ac8727   5d4d1b   936820   5c5439   \n",
       "1   271e1a   493a2d   5a544c   927a66   271e1a   8e7d6e   5a544c   88684e   \n",
       "2   5f4b3c   2f2b2b   68646e   afa39a   28231e   bcb0a3   d8cbc0   68646e   \n",
       "3   312a20   5e503e   7e7159   a19587   746c56   ad9481   89765c   bab2a4   \n",
       "4   675e48   493a25   8e6c4e   afa799   352b1f   635539   9d9272   8e6c4e   \n",
       "\n",
       "  cutBy8_4 cutBy8_5 cutBy8_6 cutBy8_7            Category  \n",
       "0   98742f   3c402c   888970   ae8d36  Post_Impressionism  \n",
       "1   a8907b   aea79f   3f342a   524130  Post_Impressionism  \n",
       "2   353337   5f4b3c   8f8275   988f90  Post_Impressionism  \n",
       "3   312a20   8f877a   564632   665949  Post_Impressionism  \n",
       "4   5c492c   6a6757   aeb0b8   d4c8c6  Post_Impressionism  "
      ]
     },
     "execution_count": 12,
     "metadata": {},
     "output_type": "execute_result"
    }
   ],
   "source": [
    "df_wiki_color = pd.DataFrame()\n",
    "\n",
    "for csv in os.listdir(COLOR_CUT_WIKIART_PATH):\n",
    "    if csv.endswith(\"_cut_hex.csv\"):\n",
    "        sub_df = pd.read_csv(COLOR_CUT_WIKIART_PATH + csv)\n",
    "        sub_df[\"Category\"] = csv.split(\"_cut_hex.\")[0]\n",
    "        # remove trailing \".jpg\" in the \"ObjectID\" column\n",
    "        sub_df[\"ObjectID\"] = sub_df[\"ObjectID\"].str.split(\".\").str[0]\n",
    "        df_wiki_color = pd.concat([df_wiki_color, sub_df])\n",
    "\n",
    "df_wiki_color.head()"
   ]
  },
  {
   "cell_type": "code",
   "execution_count": 13,
   "metadata": {},
   "outputs": [],
   "source": [
    "# join on ObjectID, print rows failed to join\n",
    "\n",
    "df_wiki = df.merge(df_wiki_color, on=\"ObjectID\", how=\"left\", indicator=True)"
   ]
  },
  {
   "cell_type": "code",
   "execution_count": 17,
   "metadata": {},
   "outputs": [
    {
     "data": {
      "text/plain": [
       "both          553258\n",
       "left_only        553\n",
       "right_only         0\n",
       "Name: _merge, dtype: int64"
      ]
     },
     "execution_count": 17,
     "metadata": {},
     "output_type": "execute_result"
    }
   ],
   "source": [
    "# save to csv\n",
    "df_wiki[\"_merge\"].value_counts()"
   ]
  },
  {
   "cell_type": "code",
   "execution_count": 22,
   "metadata": {},
   "outputs": [
    {
     "data": {
      "text/plain": [
       "both          2078\n",
       "left_only        0\n",
       "right_only       0\n",
       "Name: _merge, dtype: int64"
      ]
     },
     "execution_count": 22,
     "metadata": {},
     "output_type": "execute_result"
    }
   ],
   "source": [
    "df_moma_i2e = pd.read_csv(IMAGE2EMOTION_MOMA_PATH + \"paintings_emotion.csv\")\n",
    "\n",
    "# df_moma_i2e.head()\n",
    "\n",
    "df_moma_color = pd.read_csv(COLOR_CUT_MOMA_PATH + \"painting_cut_hex.csv\")\n",
    "\n",
    "\n",
    "df_moma = df_moma_i2e.merge(df_moma_color, on=\"ObjectID\", how=\"left\", indicator=True)\n",
    "\n",
    "\n",
    "df_moma.head()\n",
    "\n",
    "df_moma[\"_merge\"].value_counts()"
   ]
  },
  {
   "cell_type": "code",
   "execution_count": 23,
   "metadata": {},
   "outputs": [],
   "source": [
    "final_df = pd.concat([df_wiki, df_moma])"
   ]
  },
  {
   "cell_type": "code",
   "execution_count": 24,
   "metadata": {},
   "outputs": [],
   "source": [
    "# save\n",
    "\n",
    "final_df.to_csv(OUTPUT_PATH + \"paintings_emotion_color.csv\", index=True)"
   ]
  },
  {
   "cell_type": "code",
   "execution_count": 25,
   "metadata": {},
   "outputs": [
    {
     "data": {
      "text/plain": [
       "555889"
      ]
     },
     "execution_count": 25,
     "metadata": {},
     "output_type": "execute_result"
    }
   ],
   "source": [
    "len(final_df)"
   ]
  },
  {
   "cell_type": "code",
   "execution_count": 26,
   "metadata": {},
   "outputs": [
    {
     "data": {
      "text/plain": [
       "553811"
      ]
     },
     "execution_count": 26,
     "metadata": {},
     "output_type": "execute_result"
    }
   ],
   "source": [
    "len(df_wiki)"
   ]
  },
  {
   "cell_type": "code",
   "execution_count": null,
   "metadata": {},
   "outputs": [],
   "source": []
  }
 ],
 "metadata": {
  "kernelspec": {
   "display_name": "Python 3",
   "language": "python",
   "name": "python3"
  },
  "language_info": {
   "codemirror_mode": {
    "name": "ipython",
    "version": 3
   },
   "file_extension": ".py",
   "mimetype": "text/x-python",
   "name": "python",
   "nbconvert_exporter": "python",
   "pygments_lexer": "ipython3",
   "version": "3.11.0"
  }
 },
 "nbformat": 4,
 "nbformat_minor": 2
}
