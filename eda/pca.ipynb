{
 "cells": [
  {
   "cell_type": "code",
   "execution_count": 24,
   "metadata": {},
   "outputs": [],
   "source": [
    "import pandas as pd\n",
    "\n",
    "import numpy as np\n",
    "\n",
    "\n",
    "df = pd.read_csv('../cleaned_data/combined.csv')\n",
    "# drop all nan values on columns: amusement,awe,contentment,excitement,anger,disgust,fear,sadness,something else (float)\n",
    "df = df.dropna(subset=['amusement','awe','contentment','excitement','anger','disgust','fear','sadness','something else'])\n",
    "\n",
    "import matplotlib.pyplot as plt\n",
    "from sklearn.decomposition import PCA\n",
    "from sklearn.preprocessing import StandardScaler\n",
    "from sklearn.preprocessing import MinMaxScaler\n",
    "from sklearn.preprocessing import Normalizer\n",
    "\n",
    "\n",
    "# run pca on columns: amusement,awe,contentment,excitement,anger,disgust,fear,sadness,something else (float)\n",
    "pca = PCA(n_components=2)\n",
    "scaler = StandardScaler()\n",
    "\n",
    "# normalize data\n",
    "df['amusement'] = scaler.fit_transform(df[['amusement']])\n",
    "df['awe'] = scaler.fit_transform(df[['awe']])\n",
    "df['contentment'] = scaler.fit_transform(df[['contentment']])\n",
    "df['excitement'] = scaler.fit_transform(df[['excitement']])\n",
    "df['anger'] = scaler.fit_transform(df[['anger']])\n",
    "df['disgust'] = scaler.fit_transform(df[['disgust']])\n",
    "df['fear'] = scaler.fit_transform(df[['fear']])\n",
    "df['sadness'] = scaler.fit_transform(df[['sadness']])\n",
    "df['something else'] = scaler.fit_transform(df[['something else']])\n",
    "\n",
    "# run pca\n",
    "pca.fit(df[['amusement','awe','contentment','excitement','anger','disgust','fear','sadness','something else']])\n",
    "pca_data = pca.transform(df[['amusement','awe','contentment','excitement','anger','disgust','fear','sadness','something else']])\n"
   ]
  },
  {
   "cell_type": "code",
   "execution_count": 25,
   "metadata": {},
   "outputs": [
    {
     "name": "stdout",
     "output_type": "stream",
     "text": [
      "(81591, 2)\n"
     ]
    }
   ],
   "source": [
    "df.count()\n",
    "print(pca_data.shape)"
   ]
  },
  {
   "cell_type": "code",
   "execution_count": 26,
   "metadata": {},
   "outputs": [],
   "source": [
    "# add pca data to dataframe\n",
    "\n",
    "df['pca1'] = pca_data[:,0]\n",
    "df['pca2'] = pca_data[:,1]\n"
   ]
  },
  {
   "cell_type": "code",
   "execution_count": 27,
   "metadata": {},
   "outputs": [],
   "source": [
    "df.to_csv('../cleaned_data/combined_pca.csv', index=False)"
   ]
  }
 ],
 "metadata": {
  "kernelspec": {
   "display_name": "Python 3",
   "language": "python",
   "name": "python3"
  },
  "language_info": {
   "codemirror_mode": {
    "name": "ipython",
    "version": 3
   },
   "file_extension": ".py",
   "mimetype": "text/x-python",
   "name": "python",
   "nbconvert_exporter": "python",
   "pygments_lexer": "ipython3",
   "version": "3.11.0"
  }
 },
 "nbformat": 4,
 "nbformat_minor": 2
}
