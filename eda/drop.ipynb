{
 "cells": [
  {
   "cell_type": "code",
   "execution_count": 1,
   "metadata": {},
   "outputs": [],
   "source": [
    "import pandas as pd\n",
    "import numpy as np\n",
    "import os\n",
    "\n",
    "\n",
    "col_names = [\n",
    "    \"ObjectID\",\n",
    "    \"Folder_Name\",\n",
    "    \"amusement\",\n",
    "    \"awe\",\n",
    "    \"contentment\",\n",
    "    \"excitement\",\n",
    "    \"anger\",\n",
    "    \"disgust\",\n",
    "    \"fear\",\n",
    "    \"sadness\",\n",
    "    \"something else\",\n",
    "    \"pca1\",\n",
    "    \"pca2\",\n",
    "    \"pca3\",\n",
    "]\n",
    "for cut_count in [2, 4, 8]:\n",
    "    for i in range(cut_count):\n",
    "        col_name = f\"cutBy{cut_count}_{i}\"\n",
    "        col_names.append(col_name)\n",
    "\n",
    "\n",
    "df = pd.read_csv(\"../cleaned_data/combined_pca.csv\")\n",
    "\n",
    "df = df[col_names]\n",
    "\n",
    "# drop where amusement is nan\n",
    "df = df.dropna(subset=[\"amusement\"])"
   ]
  },
  {
   "cell_type": "code",
   "execution_count": null,
   "metadata": {},
   "outputs": [],
   "source": [
    "df.to_csv(\"../cleaned_data/final.csv\", index=True)"
   ]
  }
 ],
 "metadata": {
  "kernelspec": {
   "display_name": "Python 3",
   "language": "python",
   "name": "python3"
  },
  "language_info": {
   "codemirror_mode": {
    "name": "ipython",
    "version": 3
   },
   "file_extension": ".py",
   "mimetype": "text/x-python",
   "name": "python",
   "nbconvert_exporter": "python",
   "pygments_lexer": "ipython3",
   "version": "3.11.0"
  }
 },
 "nbformat": 4,
 "nbformat_minor": 2
}
