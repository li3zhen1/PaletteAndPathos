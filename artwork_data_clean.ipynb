{
 "cells": [
  {
   "cell_type": "markdown",
   "metadata": {},
   "source": [
    "# columns\n",
    "\n",
    "ObjectID,name,author, wiki_or_moma, wiki_category, cutBy2_0,cutBy2_1,cutBy4_0,cutBy4_1,cutBy4_2,cutBy4_3,cutBy8_0,cutBy8_1,cutBy8_2,cutBy8_3,cutBy8_4,cutBy8_5,cutBy8_6,cutBy8_7,amusement,awe,contentment,excitement,anger,disgust,fear,sadness,something else\n"
   ]
  },
  {
   "cell_type": "code",
   "execution_count": null,
   "metadata": {},
   "outputs": [],
   "source": [
    "import pandas as pd\n",
    "import numpy as np\n",
    "import os\n",
    "\n",
    "MOMA_PAINTING_CUT_HEX = 'results/color_cut/moma/painting_cut_hex.csv'\n",
    "\n",
    "WIKI_CUT_FOLDER = \"results/color_cut/wikiart\""
   ]
  },
  {
   "cell_type": "code",
   "execution_count": null,
   "metadata": {},
   "outputs": [],
   "source": [
    "for file_name in os.listdir(WIKI_CUT_FOLDER):\n",
    "    if file_name.endswith(\"_hex.csv\"):\n",
    "        file_name = os.path.join(WIKI_CUT_FOLDER, file_name)\n",
    "        df = pd.read_csv(file_name)\n",
    "        df = df.dropna()\n",
    "        df = df.drop_duplicates(subset=['hex'])\n",
    "        df.to_csv(file_name, index=False)"
   ]
  }
 ],
 "metadata": {
  "language_info": {
   "name": "python"
  }
 },
 "nbformat": 4,
 "nbformat_minor": 2
}
